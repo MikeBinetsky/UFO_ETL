{
 "cells": [
  {
   "cell_type": "code",
   "execution_count": 1,
   "id": "b9c930d3-1a5a-46df-9c66-c25a9e36a2e3",
   "metadata": {},
   "outputs": [],
   "source": [
    "import pandas as pd\n",
    "from sqlalchemy import create_engine\n",
    "from postgres_pw import postgres_pw"
   ]
  },
  {
   "cell_type": "code",
   "execution_count": 2,
   "id": "aced1f78-ffa2-409b-9f94-49ab5d6d4b21",
   "metadata": {},
   "outputs": [
    {
     "data": {
      "text/html": [
       "<div>\n",
       "<style scoped>\n",
       "    .dataframe tbody tr th:only-of-type {\n",
       "        vertical-align: middle;\n",
       "    }\n",
       "\n",
       "    .dataframe tbody tr th {\n",
       "        vertical-align: top;\n",
       "    }\n",
       "\n",
       "    .dataframe thead th {\n",
       "        text-align: right;\n",
       "    }\n",
       "</style>\n",
       "<table border=\"1\" class=\"dataframe\">\n",
       "  <thead>\n",
       "    <tr style=\"text-align: right;\">\n",
       "      <th></th>\n",
       "      <th>datetime</th>\n",
       "      <th>city</th>\n",
       "      <th>state</th>\n",
       "      <th>country</th>\n",
       "      <th>shape</th>\n",
       "      <th>latitude</th>\n",
       "      <th>longitude</th>\n",
       "      <th>date</th>\n",
       "      <th>year</th>\n",
       "    </tr>\n",
       "  </thead>\n",
       "  <tbody>\n",
       "    <tr>\n",
       "      <th>0</th>\n",
       "      <td>2003-10-10 12:00:00</td>\n",
       "      <td>alhambra</td>\n",
       "      <td>ca</td>\n",
       "      <td>us</td>\n",
       "      <td>oval</td>\n",
       "      <td>34.095278</td>\n",
       "      <td>-118.126111</td>\n",
       "      <td>2003-10-10</td>\n",
       "      <td>2003</td>\n",
       "    </tr>\n",
       "    <tr>\n",
       "      <th>1</th>\n",
       "      <td>2004-10-10 15:00:00</td>\n",
       "      <td>berkeley</td>\n",
       "      <td>ca</td>\n",
       "      <td>us</td>\n",
       "      <td>unknown</td>\n",
       "      <td>37.871667</td>\n",
       "      <td>-122.271667</td>\n",
       "      <td>2004-10-10</td>\n",
       "      <td>2004</td>\n",
       "    </tr>\n",
       "    <tr>\n",
       "      <th>2</th>\n",
       "      <td>2005-10-10 14:45:00</td>\n",
       "      <td>los angeles</td>\n",
       "      <td>ca</td>\n",
       "      <td>us</td>\n",
       "      <td>egg</td>\n",
       "      <td>34.052222</td>\n",
       "      <td>-118.242778</td>\n",
       "      <td>2005-10-10</td>\n",
       "      <td>2005</td>\n",
       "    </tr>\n",
       "    <tr>\n",
       "      <th>3</th>\n",
       "      <td>2006-10-10 05:00:00</td>\n",
       "      <td>san francisco</td>\n",
       "      <td>ca</td>\n",
       "      <td>us</td>\n",
       "      <td>triangle</td>\n",
       "      <td>37.775000</td>\n",
       "      <td>-122.418333</td>\n",
       "      <td>2006-10-10</td>\n",
       "      <td>2006</td>\n",
       "    </tr>\n",
       "    <tr>\n",
       "      <th>4</th>\n",
       "      <td>2007-10-10 06:00:00</td>\n",
       "      <td>indio</td>\n",
       "      <td>ca</td>\n",
       "      <td>us</td>\n",
       "      <td>oval</td>\n",
       "      <td>33.720556</td>\n",
       "      <td>-116.214722</td>\n",
       "      <td>2007-10-10</td>\n",
       "      <td>2007</td>\n",
       "    </tr>\n",
       "  </tbody>\n",
       "</table>\n",
       "</div>"
      ],
      "text/plain": [
       "              datetime           city state country     shape   latitude  \\\n",
       "0  2003-10-10 12:00:00       alhambra    ca      us      oval  34.095278   \n",
       "1  2004-10-10 15:00:00       berkeley    ca      us   unknown  37.871667   \n",
       "2  2005-10-10 14:45:00    los angeles    ca      us       egg  34.052222   \n",
       "3  2006-10-10 05:00:00  san francisco    ca      us  triangle  37.775000   \n",
       "4  2007-10-10 06:00:00          indio    ca      us      oval  33.720556   \n",
       "\n",
       "   longitude         date  year  \n",
       "0 -118.126111  2003-10-10  2003  \n",
       "1 -122.271667  2004-10-10  2004  \n",
       "2 -118.242778  2005-10-10  2005  \n",
       "3 -122.418333  2006-10-10  2006  \n",
       "4 -116.214722  2007-10-10  2007  "
      ]
     },
     "execution_count": 2,
     "metadata": {},
     "output_type": "execute_result"
    }
   ],
   "source": [
    "csv_file = \"../cleaned_data/cali_ufo.csv\"\n",
    "ufo_data_df = pd.read_csv(csv_file)\n",
    "ufo_data_df.head()"
   ]
  },
  {
   "cell_type": "code",
   "execution_count": 3,
   "id": "eeb10cd7-c342-4aab-96fe-6cba9c59f23d",
   "metadata": {},
   "outputs": [],
   "source": [
    "import getpass"
   ]
  },
  {
   "cell_type": "code",
   "execution_count": 3,
   "id": "3e7c25a9-0b9e-438f-9902-5784b4b63c29",
   "metadata": {},
   "outputs": [],
   "source": [
    "pw = getpass.getpass()"
   ]
  },
  {
   "cell_type": "code",
   "execution_count": 3,
   "id": "2adbc652-5bb0-4ddc-aaf2-957c8731f11d",
   "metadata": {},
   "outputs": [],
   "source": [
    "rds_connection_string = \"@localhost:5432/sighting_db\"\n",
    "engine = create_engine(f'postgresql://postgres:{pw}{rds_connection_string}')\n",
    "engine"
   ]
  },
  {
   "cell_type": "code",
   "execution_count": 4,
   "id": "5234617e-574a-457b-9918-4664d9bb601b",
   "metadata": {},
   "outputs": [],
   "source": [
    "ufo_data_df.to_sql(name='ufo_data', con=engine, if_exists='append', index=False)"
   ]
  },
  {
   "cell_type": "code",
   "execution_count": null,
   "id": "2fc8ed55-b92b-47c2-a689-079caa5d416e",
   "metadata": {},
   "outputs": [],
   "source": []
  }
 ],
 "metadata": {
  "kernelspec": {
   "display_name": "Python 3",
   "language": "python",
   "name": "python3"
  },
  "language_info": {
   "codemirror_mode": {
    "name": "ipython",
    "version": 3
   },
   "file_extension": ".py",
   "mimetype": "text/x-python",
   "name": "python",
   "nbconvert_exporter": "python",
   "pygments_lexer": "ipython3",
   "version": "3.7.10"
  }
 },
 "nbformat": 4,
 "nbformat_minor": 5
}
